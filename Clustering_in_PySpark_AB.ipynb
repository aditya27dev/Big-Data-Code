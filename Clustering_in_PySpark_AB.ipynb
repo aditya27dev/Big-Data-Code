{
  "cells": [
    {
      "cell_type": "markdown",
      "metadata": {
        "id": "6SA7wAPS59TG"
      },
      "source": [
        "#What is clustering\n",
        "Clustering is an unsupervised learning technique, in short, you are working on data, without having any information about a target attribute or a dependent variable. The general idea of clustering is to find some intrinsic structure in the data, often referred to as groups of similar objects. The algorithm studies the data to identify these patterns or groups such that each member in a group is closer to another member in the group (lower intracluster distance) and farther from another member in a different group (higher inter-cluster distance)\n",
        "\n",
        "\n",
        "**Examples**\n",
        "\n",
        "\n",
        "*   Customer Segmentation — Used widely for targeted marketing\n",
        "*   Recommendation Engines\n",
        "\n",
        "\n",
        "\n"
      ]
    },
    {
      "cell_type": "markdown",
      "metadata": {
        "id": "dbSoOzXS7LRo"
      },
      "source": [
        "#Setting up PySpark in Colab\n",
        "Spark is written in the Scala programming language and requires the Java Virtual Machine (JVM) to run. Therefore, our first task is to download Java.\n"
      ]
    },
    {
      "cell_type": "code",
      "execution_count": null,
      "metadata": {
        "colab": {
          "base_uri": "https://localhost:8080/"
        },
        "id": "aD11wt_m7Nh8",
        "outputId": "771fdbc6-b856-4627-fcd5-073382d84fca"
      },
      "outputs": [
        {
          "output_type": "stream",
          "name": "stdout",
          "text": [
            "Reading package lists... Done\n",
            "Building dependency tree       \n",
            "Reading state information... Done\n",
            "openjdk-8-jdk-headless is already the newest version (8u312-b07-0ubuntu1~18.04).\n",
            "The following package was automatically installed and is no longer required:\n",
            "  libnvidia-common-460\n",
            "Use 'apt autoremove' to remove it.\n",
            "0 upgraded, 0 newly installed, 0 to remove and 42 not upgraded.\n"
          ]
        }
      ],
      "source": [
        "!apt-get install openjdk-8-jdk-headless"
      ]
    },
    {
      "cell_type": "markdown",
      "metadata": {
        "id": "7-gD52aV7R7s"
      },
      "source": [
        "Now install Spark 3.2.1 with Hadoop 2.7"
      ]
    },
    {
      "cell_type": "code",
      "execution_count": null,
      "metadata": {
        "colab": {
          "base_uri": "https://localhost:8080/"
        },
        "id": "04gzkksJ7WBY",
        "outputId": "c35c5563-7ce1-4a53-f648-f611f4036fdd"
      },
      "outputs": [
        {
          "output_type": "stream",
          "name": "stdout",
          "text": [
            "--2022-05-18 16:21:47--  https://archive.apache.org/dist/spark/spark-3.2.1/spark-3.2.1-bin-hadoop2.7.tgz\n",
            "Resolving archive.apache.org (archive.apache.org)... 138.201.131.134, 2a01:4f8:172:2ec5::2\n",
            "Connecting to archive.apache.org (archive.apache.org)|138.201.131.134|:443... connected.\n",
            "HTTP request sent, awaiting response... 200 OK\n",
            "Length: 272637746 (260M) [application/x-gzip]\n",
            "Saving to: ‘spark-3.2.1-bin-hadoop2.7.tgz’\n",
            "\n",
            "spark-3.2.1-bin-had 100%[===================>] 260.01M  18.7MB/s    in 13s     \n",
            "\n",
            "2022-05-18 16:22:01 (19.3 MB/s) - ‘spark-3.2.1-bin-hadoop2.7.tgz’ saved [272637746/272637746]\n",
            "\n"
          ]
        }
      ],
      "source": [
        "!wget https://archive.apache.org/dist/spark/spark-3.2.1/spark-3.2.1-bin-hadoop2.7.tgz\n"
      ]
    },
    {
      "cell_type": "markdown",
      "metadata": {
        "id": "EHRa3Ewe7ZXg"
      },
      "source": [
        " we just need to unzip that folder.\n"
      ]
    },
    {
      "cell_type": "code",
      "execution_count": null,
      "metadata": {
        "id": "eI9gfk337a00"
      },
      "outputs": [],
      "source": [
        "!tar xf /content/spark-3.2.1-bin-hadoop2.7.tgz\n"
      ]
    },
    {
      "cell_type": "markdown",
      "metadata": {
        "id": "sxJyruvY7s10"
      },
      "source": [
        "There is one last thing that we need to install and that is the findspark library. It will locate Spark on the system and import it as a regular library.\n"
      ]
    },
    {
      "cell_type": "code",
      "execution_count": null,
      "metadata": {
        "id": "6SJCgVHL7tM2"
      },
      "outputs": [],
      "source": [
        "!pip install -q findspark\n"
      ]
    },
    {
      "cell_type": "code",
      "execution_count": null,
      "metadata": {
        "id": "YZzbCbhc8URd"
      },
      "outputs": [],
      "source": [
        "import os\n",
        "os.environ[\"JAVA_HOME\"] = \"/usr/lib/jvm/java-8-openjdk-amd64\"\n",
        "os.environ[\"SPARK_HOME\"] = \"/content/spark-3.2.1-bin-hadoop2.7\""
      ]
    },
    {
      "cell_type": "markdown",
      "metadata": {
        "id": "GNmcH1W-8XRx"
      },
      "source": [
        "We need to locate Spark in the system. For that, we import findspark and use the findspark.init() method."
      ]
    },
    {
      "cell_type": "code",
      "execution_count": null,
      "metadata": {
        "colab": {
          "base_uri": "https://localhost:8080/",
          "height": 35
        },
        "id": "DohPJLoD8Y75",
        "outputId": "8c3c323b-a1a9-4acf-c75b-bf8a40a9515e"
      },
      "outputs": [
        {
          "output_type": "execute_result",
          "data": {
            "text/plain": [
              "'/content/spark-3.2.1-bin-hadoop2.7'"
            ],
            "application/vnd.google.colaboratory.intrinsic+json": {
              "type": "string"
            }
          },
          "metadata": {},
          "execution_count": 6
        }
      ],
      "source": [
        "import findspark\n",
        "findspark.init()\n",
        "findspark.find()"
      ]
    },
    {
      "cell_type": "markdown",
      "metadata": {
        "id": "fs3YxjYb8SIx"
      },
      "source": [
        "Now that we have installed all the necessary dependencies in Colab, it is time to set the environment path. This will enable us to run Pyspark in the Colab environment."
      ]
    },
    {
      "cell_type": "code",
      "execution_count": null,
      "metadata": {
        "id": "5dHOL9iB59TM"
      },
      "outputs": [],
      "source": [
        "import pyspark\n",
        "import numpy as np\n",
        "import pandas as pd"
      ]
    },
    {
      "cell_type": "markdown",
      "metadata": {
        "id": "Sc0Orqbd59TP"
      },
      "source": [
        "## Data Preparation"
      ]
    },
    {
      "cell_type": "code",
      "execution_count": null,
      "metadata": {
        "colab": {
          "base_uri": "https://localhost:8080/",
          "height": 467
        },
        "id": "arH_LBjQ59TQ",
        "outputId": "cc615b27-a5c2-486d-e365-2db14fcdd265"
      },
      "outputs": [
        {
          "output_type": "stream",
          "name": "stdout",
          "text": [
            "+------+-------------+---------+------------+----------------+----------+-----------+---------+\n",
            "|userId|userSessionId|teamLevel|platformType|count_gameclicks|count_hits|count_buyId|avg_price|\n",
            "+------+-------------+---------+------------+----------------+----------+-----------+---------+\n",
            "|   812|         5648|        1|     android|              69|         8|       NULL|     NULL|\n",
            "|  1658|         5649|        1|      iphone|              31|         5|       NULL|     NULL|\n",
            "|  1589|         5650|        1|      iphone|              26|         2|       NULL|     NULL|\n",
            "|  1863|         5651|        1|     android|              35|         4|       NULL|     NULL|\n",
            "|   937|         5652|        1|     android|              39|         0|          1|     1.00|\n",
            "+------+-------------+---------+------------+----------------+----------+-----------+---------+\n",
            "only showing top 5 rows\n",
            "\n"
          ]
        },
        {
          "output_type": "execute_result",
          "data": {
            "text/plain": [
              "  summary              userId      userSessionId           teamLevel  \\\n",
              "0   count                4619               4619                4619   \n",
              "1    mean  1189.9647109764019  17963.06798008227   4.355704697986577   \n",
              "2  stddev   691.0986309664246  7947.681126803095  1.9246625516949587   \n",
              "3     min                   0               5648                   1   \n",
              "4     max                2389              38722                   8   \n",
              "\n",
              "  platformType    count_gameclicks          count_hits         count_buyId  \\\n",
              "0         4619                4619                4619                4619   \n",
              "1         None  143.06300064949124  15.705780471963628  1.6832034018426647   \n",
              "2         None  126.88339694316925  13.986901900918744  0.9005088871085436   \n",
              "3      android                   1                   0                   1   \n",
              "4      windows                1207                 121                NULL   \n",
              "\n",
              "           avg_price  \n",
              "0               4619  \n",
              "1  7.214323175053155  \n",
              "2  6.536501375588665  \n",
              "3               1.00  \n",
              "4               NULL  "
            ],
            "text/html": [
              "\n",
              "  <div id=\"df-5c438746-9f4d-4fb4-ae0b-3c75b371d041\">\n",
              "    <div class=\"colab-df-container\">\n",
              "      <div>\n",
              "<style scoped>\n",
              "    .dataframe tbody tr th:only-of-type {\n",
              "        vertical-align: middle;\n",
              "    }\n",
              "\n",
              "    .dataframe tbody tr th {\n",
              "        vertical-align: top;\n",
              "    }\n",
              "\n",
              "    .dataframe thead th {\n",
              "        text-align: right;\n",
              "    }\n",
              "</style>\n",
              "<table border=\"1\" class=\"dataframe\">\n",
              "  <thead>\n",
              "    <tr style=\"text-align: right;\">\n",
              "      <th></th>\n",
              "      <th>summary</th>\n",
              "      <th>userId</th>\n",
              "      <th>userSessionId</th>\n",
              "      <th>teamLevel</th>\n",
              "      <th>platformType</th>\n",
              "      <th>count_gameclicks</th>\n",
              "      <th>count_hits</th>\n",
              "      <th>count_buyId</th>\n",
              "      <th>avg_price</th>\n",
              "    </tr>\n",
              "  </thead>\n",
              "  <tbody>\n",
              "    <tr>\n",
              "      <th>0</th>\n",
              "      <td>count</td>\n",
              "      <td>4619</td>\n",
              "      <td>4619</td>\n",
              "      <td>4619</td>\n",
              "      <td>4619</td>\n",
              "      <td>4619</td>\n",
              "      <td>4619</td>\n",
              "      <td>4619</td>\n",
              "      <td>4619</td>\n",
              "    </tr>\n",
              "    <tr>\n",
              "      <th>1</th>\n",
              "      <td>mean</td>\n",
              "      <td>1189.9647109764019</td>\n",
              "      <td>17963.06798008227</td>\n",
              "      <td>4.355704697986577</td>\n",
              "      <td>None</td>\n",
              "      <td>143.06300064949124</td>\n",
              "      <td>15.705780471963628</td>\n",
              "      <td>1.6832034018426647</td>\n",
              "      <td>7.214323175053155</td>\n",
              "    </tr>\n",
              "    <tr>\n",
              "      <th>2</th>\n",
              "      <td>stddev</td>\n",
              "      <td>691.0986309664246</td>\n",
              "      <td>7947.681126803095</td>\n",
              "      <td>1.9246625516949587</td>\n",
              "      <td>None</td>\n",
              "      <td>126.88339694316925</td>\n",
              "      <td>13.986901900918744</td>\n",
              "      <td>0.9005088871085436</td>\n",
              "      <td>6.536501375588665</td>\n",
              "    </tr>\n",
              "    <tr>\n",
              "      <th>3</th>\n",
              "      <td>min</td>\n",
              "      <td>0</td>\n",
              "      <td>5648</td>\n",
              "      <td>1</td>\n",
              "      <td>android</td>\n",
              "      <td>1</td>\n",
              "      <td>0</td>\n",
              "      <td>1</td>\n",
              "      <td>1.00</td>\n",
              "    </tr>\n",
              "    <tr>\n",
              "      <th>4</th>\n",
              "      <td>max</td>\n",
              "      <td>2389</td>\n",
              "      <td>38722</td>\n",
              "      <td>8</td>\n",
              "      <td>windows</td>\n",
              "      <td>1207</td>\n",
              "      <td>121</td>\n",
              "      <td>NULL</td>\n",
              "      <td>NULL</td>\n",
              "    </tr>\n",
              "  </tbody>\n",
              "</table>\n",
              "</div>\n",
              "      <button class=\"colab-df-convert\" onclick=\"convertToInteractive('df-5c438746-9f4d-4fb4-ae0b-3c75b371d041')\"\n",
              "              title=\"Convert this dataframe to an interactive table.\"\n",
              "              style=\"display:none;\">\n",
              "        \n",
              "  <svg xmlns=\"http://www.w3.org/2000/svg\" height=\"24px\"viewBox=\"0 0 24 24\"\n",
              "       width=\"24px\">\n",
              "    <path d=\"M0 0h24v24H0V0z\" fill=\"none\"/>\n",
              "    <path d=\"M18.56 5.44l.94 2.06.94-2.06 2.06-.94-2.06-.94-.94-2.06-.94 2.06-2.06.94zm-11 1L8.5 8.5l.94-2.06 2.06-.94-2.06-.94L8.5 2.5l-.94 2.06-2.06.94zm10 10l.94 2.06.94-2.06 2.06-.94-2.06-.94-.94-2.06-.94 2.06-2.06.94z\"/><path d=\"M17.41 7.96l-1.37-1.37c-.4-.4-.92-.59-1.43-.59-.52 0-1.04.2-1.43.59L10.3 9.45l-7.72 7.72c-.78.78-.78 2.05 0 2.83L4 21.41c.39.39.9.59 1.41.59.51 0 1.02-.2 1.41-.59l7.78-7.78 2.81-2.81c.8-.78.8-2.07 0-2.86zM5.41 20L4 18.59l7.72-7.72 1.47 1.35L5.41 20z\"/>\n",
              "  </svg>\n",
              "      </button>\n",
              "      \n",
              "  <style>\n",
              "    .colab-df-container {\n",
              "      display:flex;\n",
              "      flex-wrap:wrap;\n",
              "      gap: 12px;\n",
              "    }\n",
              "\n",
              "    .colab-df-convert {\n",
              "      background-color: #E8F0FE;\n",
              "      border: none;\n",
              "      border-radius: 50%;\n",
              "      cursor: pointer;\n",
              "      display: none;\n",
              "      fill: #1967D2;\n",
              "      height: 32px;\n",
              "      padding: 0 0 0 0;\n",
              "      width: 32px;\n",
              "    }\n",
              "\n",
              "    .colab-df-convert:hover {\n",
              "      background-color: #E2EBFA;\n",
              "      box-shadow: 0px 1px 2px rgba(60, 64, 67, 0.3), 0px 1px 3px 1px rgba(60, 64, 67, 0.15);\n",
              "      fill: #174EA6;\n",
              "    }\n",
              "\n",
              "    [theme=dark] .colab-df-convert {\n",
              "      background-color: #3B4455;\n",
              "      fill: #D2E3FC;\n",
              "    }\n",
              "\n",
              "    [theme=dark] .colab-df-convert:hover {\n",
              "      background-color: #434B5C;\n",
              "      box-shadow: 0px 1px 3px 1px rgba(0, 0, 0, 0.15);\n",
              "      filter: drop-shadow(0px 1px 2px rgba(0, 0, 0, 0.3));\n",
              "      fill: #FFFFFF;\n",
              "    }\n",
              "  </style>\n",
              "\n",
              "      <script>\n",
              "        const buttonEl =\n",
              "          document.querySelector('#df-5c438746-9f4d-4fb4-ae0b-3c75b371d041 button.colab-df-convert');\n",
              "        buttonEl.style.display =\n",
              "          google.colab.kernel.accessAllowed ? 'block' : 'none';\n",
              "\n",
              "        async function convertToInteractive(key) {\n",
              "          const element = document.querySelector('#df-5c438746-9f4d-4fb4-ae0b-3c75b371d041');\n",
              "          const dataTable =\n",
              "            await google.colab.kernel.invokeFunction('convertToInteractive',\n",
              "                                                     [key], {});\n",
              "          if (!dataTable) return;\n",
              "\n",
              "          const docLinkHtml = 'Like what you see? Visit the ' +\n",
              "            '<a target=\"_blank\" href=https://colab.research.google.com/notebooks/data_table.ipynb>data table notebook</a>'\n",
              "            + ' to learn more about interactive tables.';\n",
              "          element.innerHTML = '';\n",
              "          dataTable['output_type'] = 'display_data';\n",
              "          await google.colab.output.renderOutput(dataTable, element);\n",
              "          const docLink = document.createElement('div');\n",
              "          docLink.innerHTML = docLinkHtml;\n",
              "          element.appendChild(docLink);\n",
              "        }\n",
              "      </script>\n",
              "    </div>\n",
              "  </div>\n",
              "  "
            ]
          },
          "metadata": {},
          "execution_count": 111
        }
      ],
      "source": [
        "from pyspark.sql import SparkSession\n",
        "\n",
        "spark = SparkSession.builder.master('local[*]').appName('Customer_Segmants').getOrCreate()\n",
        "\n",
        "# Read data from CSV file\n",
        "#you can download it from here:   https://raw.githubusercontent.com/besherh/BigDataManagement/main/SparkCSV/CC_GENERAL.csv\n",
        "customer_df=spark.read.csv('/content/combined-data.csv', header=True, inferSchema=True)\n",
        "\n",
        "customer_df.show(5)\n",
        "customer_df.describe().toPandas()"
      ]
    },
    {
      "cell_type": "markdown",
      "metadata": {
        "id": "AgbyF6LQ-wC4"
      },
      "source": [
        "#Data Schema"
      ]
    },
    {
      "cell_type": "code",
      "execution_count": null,
      "metadata": {
        "colab": {
          "base_uri": "https://localhost:8080/"
        },
        "id": "MqQaNfM--yk-",
        "outputId": "11fd3117-e4ff-48ea-a111-bac419da1576"
      },
      "outputs": [
        {
          "output_type": "stream",
          "name": "stdout",
          "text": [
            "root\n",
            " |-- userId: integer (nullable = true)\n",
            " |-- userSessionId: integer (nullable = true)\n",
            " |-- teamLevel: integer (nullable = true)\n",
            " |-- platformType: string (nullable = true)\n",
            " |-- count_gameclicks: integer (nullable = true)\n",
            " |-- count_hits: integer (nullable = true)\n",
            " |-- count_buyId: string (nullable = true)\n",
            " |-- avg_price: string (nullable = true)\n",
            "\n"
          ]
        }
      ],
      "source": [
        "customer_df.printSchema()\n"
      ]
    },
    {
      "cell_type": "code",
      "execution_count": null,
      "metadata": {
        "id": "QbEjhsM3Dex-",
        "colab": {
          "base_uri": "https://localhost:8080/",
          "height": 467
        },
        "outputId": "555f9a1b-bc7a-4d5a-c18c-a687898b481a"
      },
      "outputs": [
        {
          "output_type": "stream",
          "name": "stdout",
          "text": [
            "+------+-------------+---------+------------+----------------+----------+-----------+---------+\n",
            "|userId|userSessionId|teamLevel|platformType|count_gameclicks|count_hits|count_buyId|avg_price|\n",
            "+------+-------------+---------+------------+----------------+----------+-----------+---------+\n",
            "|   937|         5652|        1|     android|              39|         0|          1|        1|\n",
            "|  1623|         5659|        1|      iphone|             129|         9|          1|       10|\n",
            "|    83|         5661|        1|     android|             102|        14|          1|        5|\n",
            "|   121|         5665|        1|     android|              39|         4|          1|        3|\n",
            "|   462|         5666|        1|     android|              90|        10|          1|        3|\n",
            "+------+-------------+---------+------------+----------------+----------+-----------+---------+\n",
            "only showing top 5 rows\n",
            "\n"
          ]
        },
        {
          "output_type": "execute_result",
          "data": {
            "text/plain": [
              "  summary              userId      userSessionId           teamLevel  \\\n",
              "0   count                1411               1411                1411   \n",
              "1    mean  1201.0751240255138  19166.43869596031   4.834160170092133   \n",
              "2  stddev   691.9957569853385  7451.158753782938  1.7914678556629045   \n",
              "3     min                   1               5652                   1   \n",
              "4     max                2387              38321                   7   \n",
              "\n",
              "  platformType    count_gameclicks          count_hits         count_buyId  \\\n",
              "0         1411                1411                1411                1411   \n",
              "1         None  145.23458540042523  16.758327427356484  1.6832034018426647   \n",
              "2         None  119.76291399660911  13.565930146754264  0.9005088871085436   \n",
              "3      android                   6                   0                   1   \n",
              "4      windows                 982                 100                   6   \n",
              "\n",
              "           avg_price  \n",
              "0               1411  \n",
              "1  7.114812189936216  \n",
              "2  6.533677101892512  \n",
              "3                  1  \n",
              "4                 20  "
            ],
            "text/html": [
              "\n",
              "  <div id=\"df-6432f9c2-6513-46c7-bdb3-89e21da84682\">\n",
              "    <div class=\"colab-df-container\">\n",
              "      <div>\n",
              "<style scoped>\n",
              "    .dataframe tbody tr th:only-of-type {\n",
              "        vertical-align: middle;\n",
              "    }\n",
              "\n",
              "    .dataframe tbody tr th {\n",
              "        vertical-align: top;\n",
              "    }\n",
              "\n",
              "    .dataframe thead th {\n",
              "        text-align: right;\n",
              "    }\n",
              "</style>\n",
              "<table border=\"1\" class=\"dataframe\">\n",
              "  <thead>\n",
              "    <tr style=\"text-align: right;\">\n",
              "      <th></th>\n",
              "      <th>summary</th>\n",
              "      <th>userId</th>\n",
              "      <th>userSessionId</th>\n",
              "      <th>teamLevel</th>\n",
              "      <th>platformType</th>\n",
              "      <th>count_gameclicks</th>\n",
              "      <th>count_hits</th>\n",
              "      <th>count_buyId</th>\n",
              "      <th>avg_price</th>\n",
              "    </tr>\n",
              "  </thead>\n",
              "  <tbody>\n",
              "    <tr>\n",
              "      <th>0</th>\n",
              "      <td>count</td>\n",
              "      <td>1411</td>\n",
              "      <td>1411</td>\n",
              "      <td>1411</td>\n",
              "      <td>1411</td>\n",
              "      <td>1411</td>\n",
              "      <td>1411</td>\n",
              "      <td>1411</td>\n",
              "      <td>1411</td>\n",
              "    </tr>\n",
              "    <tr>\n",
              "      <th>1</th>\n",
              "      <td>mean</td>\n",
              "      <td>1201.0751240255138</td>\n",
              "      <td>19166.43869596031</td>\n",
              "      <td>4.834160170092133</td>\n",
              "      <td>None</td>\n",
              "      <td>145.23458540042523</td>\n",
              "      <td>16.758327427356484</td>\n",
              "      <td>1.6832034018426647</td>\n",
              "      <td>7.114812189936216</td>\n",
              "    </tr>\n",
              "    <tr>\n",
              "      <th>2</th>\n",
              "      <td>stddev</td>\n",
              "      <td>691.9957569853385</td>\n",
              "      <td>7451.158753782938</td>\n",
              "      <td>1.7914678556629045</td>\n",
              "      <td>None</td>\n",
              "      <td>119.76291399660911</td>\n",
              "      <td>13.565930146754264</td>\n",
              "      <td>0.9005088871085436</td>\n",
              "      <td>6.533677101892512</td>\n",
              "    </tr>\n",
              "    <tr>\n",
              "      <th>3</th>\n",
              "      <td>min</td>\n",
              "      <td>1</td>\n",
              "      <td>5652</td>\n",
              "      <td>1</td>\n",
              "      <td>android</td>\n",
              "      <td>6</td>\n",
              "      <td>0</td>\n",
              "      <td>1</td>\n",
              "      <td>1</td>\n",
              "    </tr>\n",
              "    <tr>\n",
              "      <th>4</th>\n",
              "      <td>max</td>\n",
              "      <td>2387</td>\n",
              "      <td>38321</td>\n",
              "      <td>7</td>\n",
              "      <td>windows</td>\n",
              "      <td>982</td>\n",
              "      <td>100</td>\n",
              "      <td>6</td>\n",
              "      <td>20</td>\n",
              "    </tr>\n",
              "  </tbody>\n",
              "</table>\n",
              "</div>\n",
              "      <button class=\"colab-df-convert\" onclick=\"convertToInteractive('df-6432f9c2-6513-46c7-bdb3-89e21da84682')\"\n",
              "              title=\"Convert this dataframe to an interactive table.\"\n",
              "              style=\"display:none;\">\n",
              "        \n",
              "  <svg xmlns=\"http://www.w3.org/2000/svg\" height=\"24px\"viewBox=\"0 0 24 24\"\n",
              "       width=\"24px\">\n",
              "    <path d=\"M0 0h24v24H0V0z\" fill=\"none\"/>\n",
              "    <path d=\"M18.56 5.44l.94 2.06.94-2.06 2.06-.94-2.06-.94-.94-2.06-.94 2.06-2.06.94zm-11 1L8.5 8.5l.94-2.06 2.06-.94-2.06-.94L8.5 2.5l-.94 2.06-2.06.94zm10 10l.94 2.06.94-2.06 2.06-.94-2.06-.94-.94-2.06-.94 2.06-2.06.94z\"/><path d=\"M17.41 7.96l-1.37-1.37c-.4-.4-.92-.59-1.43-.59-.52 0-1.04.2-1.43.59L10.3 9.45l-7.72 7.72c-.78.78-.78 2.05 0 2.83L4 21.41c.39.39.9.59 1.41.59.51 0 1.02-.2 1.41-.59l7.78-7.78 2.81-2.81c.8-.78.8-2.07 0-2.86zM5.41 20L4 18.59l7.72-7.72 1.47 1.35L5.41 20z\"/>\n",
              "  </svg>\n",
              "      </button>\n",
              "      \n",
              "  <style>\n",
              "    .colab-df-container {\n",
              "      display:flex;\n",
              "      flex-wrap:wrap;\n",
              "      gap: 12px;\n",
              "    }\n",
              "\n",
              "    .colab-df-convert {\n",
              "      background-color: #E8F0FE;\n",
              "      border: none;\n",
              "      border-radius: 50%;\n",
              "      cursor: pointer;\n",
              "      display: none;\n",
              "      fill: #1967D2;\n",
              "      height: 32px;\n",
              "      padding: 0 0 0 0;\n",
              "      width: 32px;\n",
              "    }\n",
              "\n",
              "    .colab-df-convert:hover {\n",
              "      background-color: #E2EBFA;\n",
              "      box-shadow: 0px 1px 2px rgba(60, 64, 67, 0.3), 0px 1px 3px 1px rgba(60, 64, 67, 0.15);\n",
              "      fill: #174EA6;\n",
              "    }\n",
              "\n",
              "    [theme=dark] .colab-df-convert {\n",
              "      background-color: #3B4455;\n",
              "      fill: #D2E3FC;\n",
              "    }\n",
              "\n",
              "    [theme=dark] .colab-df-convert:hover {\n",
              "      background-color: #434B5C;\n",
              "      box-shadow: 0px 1px 3px 1px rgba(0, 0, 0, 0.15);\n",
              "      filter: drop-shadow(0px 1px 2px rgba(0, 0, 0, 0.3));\n",
              "      fill: #FFFFFF;\n",
              "    }\n",
              "  </style>\n",
              "\n",
              "      <script>\n",
              "        const buttonEl =\n",
              "          document.querySelector('#df-6432f9c2-6513-46c7-bdb3-89e21da84682 button.colab-df-convert');\n",
              "        buttonEl.style.display =\n",
              "          google.colab.kernel.accessAllowed ? 'block' : 'none';\n",
              "\n",
              "        async function convertToInteractive(key) {\n",
              "          const element = document.querySelector('#df-6432f9c2-6513-46c7-bdb3-89e21da84682');\n",
              "          const dataTable =\n",
              "            await google.colab.kernel.invokeFunction('convertToInteractive',\n",
              "                                                     [key], {});\n",
              "          if (!dataTable) return;\n",
              "\n",
              "          const docLinkHtml = 'Like what you see? Visit the ' +\n",
              "            '<a target=\"_blank\" href=https://colab.research.google.com/notebooks/data_table.ipynb>data table notebook</a>'\n",
              "            + ' to learn more about interactive tables.';\n",
              "          element.innerHTML = '';\n",
              "          dataTable['output_type'] = 'display_data';\n",
              "          await google.colab.output.renderOutput(dataTable, element);\n",
              "          const docLink = document.createElement('div');\n",
              "          docLink.innerHTML = docLinkHtml;\n",
              "          element.appendChild(docLink);\n",
              "        }\n",
              "      </script>\n",
              "    </div>\n",
              "  </div>\n",
              "  "
            ]
          },
          "metadata": {},
          "execution_count": 112
        }
      ],
      "source": [
        "\n",
        "from pyspark.sql.types import IntegerType\n",
        "\n",
        "# Number of records with missing 'delay' values\n",
        "customer_df.filter('avg_price IS NULL').count()\n",
        "\n",
        "# Remove records with missing 'delay' values\n",
        "customer_df = customer_df.filter(customer_df.avg_price != \"NULL\")\n",
        "\n",
        "# Remove records with missing values in any column and get the number of remaining rows\n",
        "customer_df = customer_df.dropna()\n",
        "\n",
        "customer_df = customer_df.withColumn(\"avg_price\", customer_df[\"avg_price\"].cast(IntegerType()))\n",
        "\n",
        "customer_df.show(5)\n",
        "customer_df.describe().toPandas()"
      ]
    },
    {
      "cell_type": "code",
      "execution_count": null,
      "metadata": {
        "colab": {
          "base_uri": "https://localhost:8080/"
        },
        "id": "PNfLC86TDrzl",
        "outputId": "e1b5f0f2-5ac2-4682-cb7c-a2265e711c52"
      },
      "outputs": [
        {
          "output_type": "stream",
          "name": "stdout",
          "text": [
            "+------+-------------+---------+------------+----------------+----------+-----------+---------+----------------+----------------+\n",
            "|userId|userSessionId|teamLevel|platformType|count_gameclicks|count_hits|count_buyId|avg_price|platformType_idx|        features|\n",
            "+------+-------------+---------+------------+----------------+----------+-----------+---------+----------------+----------------+\n",
            "|   937|         5652|        1|     android|              39|         0|          1|        1|             1.0|  [1.0,39.0,1.0]|\n",
            "|  1623|         5659|        1|      iphone|             129|         9|          1|       10|             0.0|[0.0,129.0,10.0]|\n",
            "+------+-------------+---------+------------+----------------+----------+-----------+---------+----------------+----------------+\n",
            "only showing top 2 rows\n",
            "\n"
          ]
        }
      ],
      "source": [
        "from pyspark.ml.feature import VectorAssembler\n",
        "from pyspark.sql.types import IntegerType\n",
        "import pyspark.sql.functions as F\n",
        "from pyspark.sql.window import Window\n",
        "from pyspark.ml.feature import StringIndexer\n",
        "\n",
        "# Create an indexer\n",
        "indexer = StringIndexer(inputCol='platformType', outputCol='platformType_idx')\n",
        "\n",
        "# Indexer identifies categories in the data\n",
        "indexer_model = indexer.fit(customer_df)\n",
        "\n",
        "# Indexer creates a new column with numeric index values\n",
        "customer_df = indexer_model.transform(customer_df)\n",
        "\n",
        "customer_df.columns\n",
        "assemble=VectorAssembler(inputCols=[\n",
        " 'platformType_idx',\n",
        " 'count_gameclicks',\n",
        " 'avg_price'], outputCol='features')\n",
        "assembled_data=assemble.transform(customer_df)\n",
        "assembled_data.show(2)"
      ]
    },
    {
      "cell_type": "code",
      "execution_count": null,
      "metadata": {
        "colab": {
          "base_uri": "https://localhost:8080/"
        },
        "id": "xV36Dr4iELkf",
        "outputId": "3e4a1c0d-facd-4db8-831a-232b3a65c4b0"
      },
      "outputs": [
        {
          "output_type": "stream",
          "name": "stdout",
          "text": [
            "+------+-------------+---------+------------+----------------+----------+-----------+---------+----------------+----------------+--------------------+\n",
            "|userId|userSessionId|teamLevel|platformType|count_gameclicks|count_hits|count_buyId|avg_price|platformType_idx|        features|     scaled_features|\n",
            "+------+-------------+---------+------------+----------------+----------+-----------+---------+----------------+----------------+--------------------+\n",
            "|   937|         5652|        1|     android|              39|         0|          1|        1|             1.0|  [1.0,39.0,1.0]|[0.95765670056880...|\n",
            "|  1623|         5659|        1|      iphone|             129|         9|          1|       10|             0.0|[0.0,129.0,10.0]|[0.0,1.0771280999...|\n",
            "+------+-------------+---------+------------+----------------+----------+-----------+---------+----------------+----------------+--------------------+\n",
            "only showing top 2 rows\n",
            "\n"
          ]
        }
      ],
      "source": [
        "from pyspark.ml.feature import StandardScaler\n",
        "scale=StandardScaler(inputCol='features',outputCol='scaled_features')\n",
        "data_scale=scale.fit(assembled_data)\n",
        "data_scale_output=data_scale.transform(assembled_data)\n",
        "data_scale_output.show(2)\n"
      ]
    },
    {
      "cell_type": "code",
      "execution_count": null,
      "metadata": {
        "colab": {
          "base_uri": "https://localhost:8080/"
        },
        "id": "v-nqzTI4FH9U",
        "outputId": "3cb303a2-8c45-4b0d-c222-f4194c9aeaff"
      },
      "outputs": [
        {
          "output_type": "stream",
          "name": "stdout",
          "text": [
            "Silhouette Score k2: 0.56\n",
            "Silhouette Score k3: 0.62\n",
            "Silhouette Score k4: 0.61\n",
            "Silhouette Score k5: 0.53\n",
            "Silhouette Score k6: 0.55\n",
            "Silhouette Score k7: 0.58\n",
            "Silhouette Score k8: 0.59\n",
            "Silhouette Score k9: 0.56\n"
          ]
        }
      ],
      "source": [
        "from pyspark.ml.clustering import KMeans\n",
        "from pyspark.ml.evaluation import ClusteringEvaluator\n",
        "silhouette_score=[]\n",
        "evaluator = ClusteringEvaluator(predictionCol='prediction', featuresCol='scaled_features', \\\n",
        "                                metricName='silhouette', distanceMeasure='squaredEuclidean')\n",
        "for i in range(2,10):\n",
        "    KMeans_algo=KMeans(featuresCol='scaled_features', k=i)\n",
        "    KMeans_fit=KMeans_algo.fit(data_scale_output)\n",
        "    output=KMeans_fit.transform(data_scale_output)\n",
        "    score=evaluator.evaluate(output)\n",
        "    silhouette_score.append(score)\n",
        "    print(f\"Silhouette Score k{i}:\",round(score, 2))"
      ]
    },
    {
      "cell_type": "code",
      "execution_count": null,
      "metadata": {
        "colab": {
          "base_uri": "https://localhost:8080/",
          "height": 406
        },
        "id": "XSAtk-hfFR-B",
        "outputId": "55d476b2-40b7-4b20-b14a-efe9d815edc4"
      },
      "outputs": [
        {
          "output_type": "execute_result",
          "data": {
            "text/plain": [
              "Text(0, 0.5, 'Silhouette Score')"
            ]
          },
          "metadata": {},
          "execution_count": 116
        },
        {
          "output_type": "display_data",
          "data": {
            "text/plain": [
              "<Figure size 576x432 with 1 Axes>"
            ],
            "image/png": "[encoded data removed]"
          },
          "metadata": {
            "needs_background": "light"
          }
        }
      ],
      "source": [
        "#Visualizing the silhouette scores in a plot\n",
        "import matplotlib.pyplot as plt\n",
        "fig, ax = plt.subplots(1,1, figsize =(8,6))\n",
        "ax.plot(range(2,10),silhouette_score)\n",
        "ax.set_xlabel('k')\n",
        "ax.set_ylabel('Silhouette Score')\n"
      ]
    },
    {
      "cell_type": "markdown",
      "metadata": {
        "id": "ir_CSOcJJqxR"
      },
      "source": [
        "Highest value when k = 3\n"
      ]
    },
    {
      "cell_type": "code",
      "execution_count": null,
      "metadata": {
        "id": "YDbeZPTwJvdV"
      },
      "outputs": [],
      "source": [
        "final_clustering=KMeans(featuresCol='scaled_features', k=3)\n",
        "KMeans_fit=KMeans_algo.fit(data_scale_output)\n",
        "clusters_output=KMeans_fit.transform(data_scale_output)\n"
      ]
    },
    {
      "cell_type": "code",
      "execution_count": null,
      "metadata": {
        "colab": {
          "base_uri": "https://localhost:8080/"
        },
        "id": "APC-6PVgKf98",
        "outputId": "4cd484de-7a10-4438-a22a-fb1f38fb2ceb"
      },
      "outputs": [
        {
          "output_type": "stream",
          "name": "stdout",
          "text": [
            "+------+-------------+---------+------------+----------------+----------+-----------+---------+----------------+----------------+--------------------+----------+\n",
            "|userId|userSessionId|teamLevel|platformType|count_gameclicks|count_hits|count_buyId|avg_price|platformType_idx|        features|     scaled_features|prediction|\n",
            "+------+-------------+---------+------------+----------------+----------+-----------+---------+----------------+----------------+--------------------+----------+\n",
            "|   937|         5652|        1|     android|              39|         0|          1|        1|             1.0|  [1.0,39.0,1.0]|[0.95765670056880...|         5|\n",
            "|  1623|         5659|        1|      iphone|             129|         9|          1|       10|             0.0|[0.0,129.0,10.0]|[0.0,1.0771280999...|         0|\n",
            "|    83|         5661|        1|     android|             102|        14|          1|        5|             1.0| [1.0,102.0,5.0]|[0.95765670056880...|         5|\n",
            "|   121|         5665|        1|     android|              39|         4|          1|        3|             1.0|  [1.0,39.0,3.0]|[0.95765670056880...|         5|\n",
            "|   462|         5666|        1|     android|              90|        10|          1|        3|             1.0|  [1.0,90.0,3.0]|[0.95765670056880...|         5|\n",
            "|   819|         5679|        1|      iphone|              51|         8|          1|       20|             0.0| [0.0,51.0,20.0]|[0.0,0.4258413418...|         3|\n",
            "|  2199|         5697|        1|     android|              51|         6|          2|        2|             1.0|  [1.0,51.0,2.0]|[0.95765670056880...|         5|\n",
            "|  1143|         5698|        1|     android|              47|         5|          2|        2|             1.0|  [1.0,47.0,2.0]|[0.95765670056880...|         5|\n",
            "|  1652|         5706|        1|     android|              46|         7|          1|        1|             1.0|  [1.0,46.0,1.0]|[0.95765670056880...|         5|\n",
            "|  2222|         5709|        1|      iphone|              41|         6|          1|       20|             0.0| [0.0,41.0,20.0]|[0.0,0.3423430395...|         3|\n",
            "|   374|         5716|        1|     android|              47|         7|          1|        3|             1.0|  [1.0,47.0,3.0]|[0.95765670056880...|         5|\n",
            "|  1535|         5720|        1|      iphone|              76|         7|          1|       20|             0.0| [0.0,76.0,20.0]|[0.0,0.6345870976...|         3|\n",
            "|    21|         5721|        1|     android|              52|         2|          1|        3|             1.0|  [1.0,52.0,3.0]|[0.95765670056880...|         5|\n",
            "|  2379|         5749|        1|     android|              62|         9|          1|        3|             1.0|  [1.0,62.0,3.0]|[0.95765670056880...|         5|\n",
            "|  1807|         5770|        1|      iphone|             177|        25|          2|        7|             0.0| [0.0,177.0,7.0]|[0.0,1.4779199511...|         0|\n",
            "|   868|         5775|        1|      iphone|              54|         5|          1|       10|             0.0| [0.0,54.0,10.0]|[0.0,0.4508908325...|         0|\n",
            "|  1567|         5777|        1|     android|              27|         4|          2|        4|             1.0|  [1.0,27.0,4.0]|[0.95765670056880...|         5|\n",
            "|   221|         5779|        1|      iphone|              37|         2|          1|       20|             0.0| [0.0,37.0,20.0]|[0.0,0.3089437185...|         3|\n",
            "|  2306|         5783|        1|     android|              67|         5|          1|        1|             1.0|  [1.0,67.0,1.0]|[0.95765670056880...|         5|\n",
            "|  1065|         5785|        1|      iphone|              37|         5|          2|       11|             0.0| [0.0,37.0,11.0]|[0.0,0.3089437185...|         0|\n",
            "+------+-------------+---------+------------+----------------+----------+-----------+---------+----------------+----------------+--------------------+----------+\n",
            "only showing top 20 rows\n",
            "\n"
          ]
        }
      ],
      "source": [
        "#notice the last column [prediction]\n",
        "clusters_output.show()\n"
      ]
    },
    {
      "cell_type": "code",
      "source": [
        "from pyspark.ml.feature import PCA as PCAml\n",
        "pca = PCAml(k=3, inputCol=\"scaled_features\", outputCol=\"pca\")\n",
        "pca_model = pca.fit(data_scale_output)\n",
        "pca_transformed = pca_model.transform(data_scale_output)\n",
        "pca_transformed.show(2)"
      ],
      "metadata": {
        "colab": {
          "base_uri": "https://localhost:8080/"
        },
        "id": "iE9_oDJ6BS3W",
        "outputId": "2f194409-5626-4f60-f616-1b78cd4446b5"
      },
      "execution_count": null,
      "outputs": [
        {
          "output_type": "stream",
          "name": "stdout",
          "text": [
            "+------+-------------+---------+------------+----------------+----------+-----------+---------+----------------+----------------+--------------------+--------------------+\n",
            "|userId|userSessionId|teamLevel|platformType|count_gameclicks|count_hits|count_buyId|avg_price|platformType_idx|        features|     scaled_features|                 pca|\n",
            "+------+-------------+---------+------------+----------------+----------+-----------+---------+----------------+----------------+--------------------+--------------------+\n",
            "|   937|         5652|        1|     android|              39|         0|          1|        1|             1.0|  [1.0,39.0,1.0]|[0.95765670056880...|[-0.5920825753709...|\n",
            "|  1623|         5659|        1|      iphone|             129|         9|          1|       10|             0.0|[0.0,129.0,10.0]|[0.0,1.0771280999...|[0.99763793762722...|\n",
            "+------+-------------+---------+------------+----------------+----------+-----------+---------+----------------+----------------+--------------------+--------------------+\n",
            "only showing top 2 rows\n",
            "\n"
          ]
        }
      ]
    },
    {
      "cell_type": "code",
      "source": [
        "import numpy as np\n",
        "x_pca = np.array(pca_transformed.rdd.map(lambda row: row.pca).collect())"
      ],
      "metadata": {
        "id": "MIAEHT-BBLe9"
      },
      "execution_count": null,
      "outputs": []
    },
    {
      "cell_type": "code",
      "source": [
        "cluster_assignment = np.array(clusters_output.rdd.map(lambda row: row.prediction).collect()).reshape(-1,1)"
      ],
      "metadata": {
        "id": "C4gDQL9bBjIB"
      },
      "execution_count": null,
      "outputs": []
    },
    {
      "cell_type": "code",
      "source": [
        "import seaborn as sns\n",
        "import matplotlib.pyplot as plt\n",
        "\n",
        "pca_data = np.hstack((x_pca,cluster_assignment))\n",
        "\n",
        "pca_df = pd.DataFrame(data=pca_data, columns=(\"1st_principal\", \"2nd_principal\", \"3rd_principal\",\"cluster_assignment\"))\n",
        "\n",
        "pca_df\n",
        "\n",
        "sns.FacetGrid(pca_df,hue=\"cluster_assignment\", height=6).map(plt.scatter, '1st_principal', '2nd_principal' ).add_legend()\n",
        "\n",
        "plt.show()"
      ],
      "metadata": {
        "colab": {
          "base_uri": "https://localhost:8080/",
          "height": 441
        },
        "id": "GsyMNkOJBp-A",
        "outputId": "14cd1169-f8cc-458b-8457-f0c5ecbc11f7"
      },
      "execution_count": null,
      "outputs": [
        {
          "output_type": "display_data",
          "data": {
            "text/plain": [
              "<Figure size 537.375x432 with 1 Axes>"
            ],
            "image/png": "[encoded data removed]"
          },
          "metadata": {
            "needs_background": "light"
          }
        }
      ]
    }
  ],
  "metadata": {
    "colab": {
      "collapsed_sections": [],
      "name": "Clustering-in-PySpark AB.ipynb",
      "provenance": []
    },
    "kernelspec": {
      "display_name": "Python 3",
      "language": "python",
      "name": "python3"
    },
    "language_info": {
      "codemirror_mode": {
        "name": "ipython",
        "version": 3
      },
      "file_extension": ".py",
      "mimetype": "text/x-python",
      "name": "python",
      "nbconvert_exporter": "python",
      "pygments_lexer": "ipython3",
      "version": "3.7.6"
    }
  },
  "nbformat": 4,
  "nbformat_minor": 0
}