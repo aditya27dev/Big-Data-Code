{
  "cells": [
    {
      "cell_type": "markdown",
      "metadata": {
        "id": "6SA7wAPS59TG"
      },
      "source": [
        "# Classification in PySpark\n",
        "> Now that you are familiar with getting data into Spark, you'll move onto building two types of classification model - Decision Trees and Logistic Regression. \n",
        "\n",
        "credit: This notebook is inspired from datacamp machine learning with spark course"
      ]
    },
    {
      "cell_type": "markdown",
      "source": [
        "#Setting up PySpark in Colab\n",
        "Spark is written in the Scala programming language and requires the Java Virtual Machine (JVM) to run. Therefore, our first task is to download Java.\n"
      ],
      "metadata": {
        "id": "dbSoOzXS7LRo"
      }
    },
    {
      "cell_type": "code",
      "source": [
        "!apt-get install openjdk-8-jdk-headless"
      ],
      "metadata": {
        "colab": {
          "base_uri": "https://localhost:8080/"
        },
        "id": "aD11wt_m7Nh8",
        "outputId": "2f656556-43bf-43b1-8991-3df71097b852"
      },
      "execution_count": null,
      "outputs": [
        {
          "output_type": "stream",
          "name": "stdout",
          "text": [
            "Reading package lists... Done\n",
            "Building dependency tree       \n",
            "Reading state information... Done\n",
            "The following package was automatically installed and is no longer required:\n",
            "  libnvidia-common-460\n",
            "Use 'apt autoremove' to remove it.\n",
            "The following additional packages will be installed:\n",
            "  openjdk-8-jre-headless\n",
            "Suggested packages:\n",
            "  openjdk-8-demo openjdk-8-source libnss-mdns fonts-dejavu-extra\n",
            "  fonts-ipafont-gothic fonts-ipafont-mincho fonts-wqy-microhei\n",
            "  fonts-wqy-zenhei fonts-indic\n",
            "The following NEW packages will be installed:\n",
            "  openjdk-8-jdk-headless openjdk-8-jre-headless\n",
            "0 upgraded, 2 newly installed, 0 to remove and 42 not upgraded.\n",
            "Need to get 36.5 MB of archives.\n",
            "After this operation, 143 MB of additional disk space will be used.\n",
            "Get:1 http://archive.ubuntu.com/ubuntu bionic-updates/universe amd64 openjdk-8-jre-headless amd64 8u312-b07-0ubuntu1~18.04 [28.2 MB]\n",
            "Get:2 http://archive.ubuntu.com/ubuntu bionic-updates/universe amd64 openjdk-8-jdk-headless amd64 8u312-b07-0ubuntu1~18.04 [8,298 kB]\n",
            "Fetched 36.5 MB in 1s (48.1 MB/s)\n",
            "Selecting previously unselected package openjdk-8-jre-headless:amd64.\n",
            "(Reading database ... 155629 files and directories currently installed.)\n",
            "Preparing to unpack .../openjdk-8-jre-headless_8u312-b07-0ubuntu1~18.04_amd64.deb ...\n",
            "Unpacking openjdk-8-jre-headless:amd64 (8u312-b07-0ubuntu1~18.04) ...\n",
            "Selecting previously unselected package openjdk-8-jdk-headless:amd64.\n",
            "Preparing to unpack .../openjdk-8-jdk-headless_8u312-b07-0ubuntu1~18.04_amd64.deb ...\n",
            "Unpacking openjdk-8-jdk-headless:amd64 (8u312-b07-0ubuntu1~18.04) ...\n",
            "Setting up openjdk-8-jre-headless:amd64 (8u312-b07-0ubuntu1~18.04) ...\n",
            "update-alternatives: using /usr/lib/jvm/java-8-openjdk-amd64/jre/bin/orbd to provide /usr/bin/orbd (orbd) in auto mode\n",
            "update-alternatives: using /usr/lib/jvm/java-8-openjdk-amd64/jre/bin/servertool to provide /usr/bin/servertool (servertool) in auto mode\n",
            "update-alternatives: using /usr/lib/jvm/java-8-openjdk-amd64/jre/bin/tnameserv to provide /usr/bin/tnameserv (tnameserv) in auto mode\n",
            "Setting up openjdk-8-jdk-headless:amd64 (8u312-b07-0ubuntu1~18.04) ...\n",
            "update-alternatives: using /usr/lib/jvm/java-8-openjdk-amd64/bin/idlj to provide /usr/bin/idlj (idlj) in auto mode\n",
            "update-alternatives: using /usr/lib/jvm/java-8-openjdk-amd64/bin/wsimport to provide /usr/bin/wsimport (wsimport) in auto mode\n",
            "update-alternatives: using /usr/lib/jvm/java-8-openjdk-amd64/bin/jsadebugd to provide /usr/bin/jsadebugd (jsadebugd) in auto mode\n",
            "update-alternatives: using /usr/lib/jvm/java-8-openjdk-amd64/bin/native2ascii to provide /usr/bin/native2ascii (native2ascii) in auto mode\n",
            "update-alternatives: using /usr/lib/jvm/java-8-openjdk-amd64/bin/javah to provide /usr/bin/javah (javah) in auto mode\n",
            "update-alternatives: using /usr/lib/jvm/java-8-openjdk-amd64/bin/hsdb to provide /usr/bin/hsdb (hsdb) in auto mode\n",
            "update-alternatives: using /usr/lib/jvm/java-8-openjdk-amd64/bin/clhsdb to provide /usr/bin/clhsdb (clhsdb) in auto mode\n",
            "update-alternatives: using /usr/lib/jvm/java-8-openjdk-amd64/bin/xjc to provide /usr/bin/xjc (xjc) in auto mode\n",
            "update-alternatives: using /usr/lib/jvm/java-8-openjdk-amd64/bin/schemagen to provide /usr/bin/schemagen (schemagen) in auto mode\n",
            "update-alternatives: using /usr/lib/jvm/java-8-openjdk-amd64/bin/extcheck to provide /usr/bin/extcheck (extcheck) in auto mode\n",
            "update-alternatives: using /usr/lib/jvm/java-8-openjdk-amd64/bin/jhat to provide /usr/bin/jhat (jhat) in auto mode\n",
            "update-alternatives: using /usr/lib/jvm/java-8-openjdk-amd64/bin/wsgen to provide /usr/bin/wsgen (wsgen) in auto mode\n"
          ]
        }
      ]
    },
    {
      "cell_type": "markdown",
      "source": [
        "Now install Spark 3.2.1 with Hadoop 2.7"
      ],
      "metadata": {
        "id": "7-gD52aV7R7s"
      }
    },
    {
      "cell_type": "code",
      "source": [
        "!wget https://archive.apache.org/dist/spark/spark-3.2.1/spark-3.2.1-bin-hadoop2.7.tgz\n"
      ],
      "metadata": {
        "colab": {
          "base_uri": "https://localhost:8080/"
        },
        "id": "04gzkksJ7WBY",
        "outputId": "52a36c04-7c6b-49d0-b3bb-39809b9b4eae"
      },
      "execution_count": null,
      "outputs": [
        {
          "output_type": "stream",
          "name": "stdout",
          "text": [
            "--2022-05-19 12:46:15--  https://archive.apache.org/dist/spark/spark-3.2.1/spark-3.2.1-bin-hadoop2.7.tgz\n",
            "Resolving archive.apache.org (archive.apache.org)... 138.201.131.134, 2a01:4f8:172:2ec5::2\n",
            "Connecting to archive.apache.org (archive.apache.org)|138.201.131.134|:443... connected.\n",
            "HTTP request sent, awaiting response... 200 OK\n",
            "Length: 272637746 (260M) [application/x-gzip]\n",
            "Saving to: ‘spark-3.2.1-bin-hadoop2.7.tgz’\n",
            "\n",
            "spark-3.2.1-bin-had 100%[===================>] 260.01M  6.92MB/s    in 42s     \n",
            "\n",
            "2022-05-19 12:46:58 (6.14 MB/s) - ‘spark-3.2.1-bin-hadoop2.7.tgz’ saved [272637746/272637746]\n",
            "\n"
          ]
        }
      ]
    },
    {
      "cell_type": "markdown",
      "source": [
        " we just need to unzip that folder.\n"
      ],
      "metadata": {
        "id": "EHRa3Ewe7ZXg"
      }
    },
    {
      "cell_type": "code",
      "source": [
        "!tar xf /content/spark-3.2.1-bin-hadoop2.7.tgz\n"
      ],
      "metadata": {
        "id": "eI9gfk337a00"
      },
      "execution_count": null,
      "outputs": []
    },
    {
      "cell_type": "markdown",
      "source": [
        "There is one last thing that we need to install and that is the findspark library. It will locate Spark on the system and import it as a regular library.\n"
      ],
      "metadata": {
        "id": "sxJyruvY7s10"
      }
    },
    {
      "cell_type": "code",
      "source": [
        "!pip install -q findspark\n"
      ],
      "metadata": {
        "id": "6SJCgVHL7tM2"
      },
      "execution_count": null,
      "outputs": []
    },
    {
      "cell_type": "code",
      "source": [
        "!pip install pyspark"
      ],
      "metadata": {
        "id": "CjMhG7u_BUQ_",
        "outputId": "bb346ea9-c6f6-403a-8927-21b722860ac2",
        "colab": {
          "base_uri": "https://localhost:8080/"
        }
      },
      "execution_count": null,
      "outputs": [
        {
          "output_type": "stream",
          "name": "stdout",
          "text": [
            "Collecting pyspark\n",
            "  Downloading pyspark-3.2.1.tar.gz (281.4 MB)\n",
            "\u001b[K     |████████████████████████████████| 281.4 MB 37 kB/s \n",
            "\u001b[?25hCollecting py4j==0.10.9.3\n",
            "  Downloading py4j-0.10.9.3-py2.py3-none-any.whl (198 kB)\n",
            "\u001b[K     |████████████████████████████████| 198 kB 46.0 MB/s \n",
            "\u001b[?25hBuilding wheels for collected packages: pyspark\n",
            "  Building wheel for pyspark (setup.py) ... \u001b[?25l\u001b[?25hdone\n",
            "  Created wheel for pyspark: filename=pyspark-3.2.1-py2.py3-none-any.whl size=281853642 sha256=982aa254ead564a54b1c1cf1f3b56b55edf98fb3abc3c2a435efb4736e3e8772\n",
            "  Stored in directory: /root/.cache/pip/wheels/9f/f5/07/7cd8017084dce4e93e84e92efd1e1d5334db05f2e83bcef74f\n",
            "Successfully built pyspark\n",
            "Installing collected packages: py4j, pyspark\n",
            "Successfully installed py4j-0.10.9.3 pyspark-3.2.1\n"
          ]
        }
      ]
    },
    {
      "cell_type": "code",
      "source": [
        "import os\n",
        "os.environ[\"JAVA_HOME\"] = \"/usr/lib/jvm/java-8-openjdk-amd64\"\n",
        "os.environ[\"SPARK_HOME\"] = \"/content/spark-3.2.1-bin-hadoop2.7\""
      ],
      "metadata": {
        "id": "YZzbCbhc8URd"
      },
      "execution_count": null,
      "outputs": []
    },
    {
      "cell_type": "markdown",
      "source": [
        "We need to locate Spark in the system. For that, we import findspark and use the findspark.init() method."
      ],
      "metadata": {
        "id": "GNmcH1W-8XRx"
      }
    },
    {
      "cell_type": "code",
      "source": [
        "import findspark\n",
        "findspark.init()\n",
        "findspark.find()"
      ],
      "metadata": {
        "colab": {
          "base_uri": "https://localhost:8080/",
          "height": 35
        },
        "id": "DohPJLoD8Y75",
        "outputId": "37bbec25-b679-4539-eb55-16fd2ef182c2"
      },
      "execution_count": null,
      "outputs": [
        {
          "output_type": "execute_result",
          "data": {
            "text/plain": [
              "'/content/spark-3.2.1-bin-hadoop2.7'"
            ],
            "application/vnd.google.colaboratory.intrinsic+json": {
              "type": "string"
            }
          },
          "metadata": {},
          "execution_count": 7
        }
      ]
    },
    {
      "cell_type": "markdown",
      "source": [
        "Now that we have installed all the necessary dependencies in Colab, it is time to set the environment path. This will enable us to run Pyspark in the Colab environment."
      ],
      "metadata": {
        "id": "fs3YxjYb8SIx"
      }
    },
    {
      "cell_type": "code",
      "execution_count": null,
      "metadata": {
        "id": "5dHOL9iB59TM"
      },
      "outputs": [],
      "source": [
        "import pyspark\n",
        "import numpy as np\n",
        "import pandas as pd"
      ]
    },
    {
      "cell_type": "markdown",
      "source": [
        "#Problem description\n",
        "\n",
        "In this exercise, you will develop two classifiers to perform a binary classification task - The objective is to predict whether a flight is likely to be delayed by at least 15 minutes (label 1) or not (label 0)."
      ],
      "metadata": {
        "id": "vN2WmAFkCw15"
      }
    },
    {
      "cell_type": "markdown",
      "metadata": {
        "id": "Sc0Orqbd59TP"
      },
      "source": [
        "## Data Preparation"
      ]
    },
    {
      "cell_type": "markdown",
      "metadata": {
        "id": "MSSqEXms59TP"
      },
      "source": [
        "### Removing columns and rows\n",
        "You previously loaded airline flight data from a CSV file. You're going to develop a model which will predict whether or not a given flight will be delayed.\n",
        "\n",
        "In this exercise you need to trim those data down by:\n",
        "\n",
        "1. removing an uninformative column and\n",
        "2. removing rows which do not have information about whether or not a flight was delayed."
      ]
    },
    {
      "cell_type": "code",
      "execution_count": null,
      "metadata": {
        "id": "arH_LBjQ59TQ",
        "outputId": "f76a7fa1-7ff2-49d0-e44d-303d3b9c51c4",
        "colab": {
          "base_uri": "https://localhost:8080/"
        }
      },
      "outputs": [
        {
          "output_type": "stream",
          "name": "stdout",
          "text": [
            "+------+-------------+---------+------------+----------------+----------+-----------+---------+\n",
            "|userId|userSessionId|teamLevel|platformType|count_gameclicks|count_hits|count_buyId|avg_price|\n",
            "+------+-------------+---------+------------+----------------+----------+-----------+---------+\n",
            "|   812|         5648|        1|     android|              69|         8|       NULL|     NULL|\n",
            "|  1658|         5649|        1|      iphone|              31|         5|       NULL|     NULL|\n",
            "|  1589|         5650|        1|      iphone|              26|         2|       NULL|     NULL|\n",
            "|  1863|         5651|        1|     android|              35|         4|       NULL|     NULL|\n",
            "|   937|         5652|        1|     android|              39|         0|          1|     1.00|\n",
            "+------+-------------+---------+------------+----------------+----------+-----------+---------+\n",
            "only showing top 5 rows\n",
            "\n"
          ]
        }
      ],
      "source": [
        "from pyspark.sql import SparkSession\n",
        "\n",
        "spark = SparkSession.builder.master('local[*]').appName('flamingo').getOrCreate()\n",
        "\n",
        "# Read data from CSV file\n",
        "flamingo_df = spark.read.csv('./combined-data.csv', sep=',', header=True, inferSchema=True, nullValue='NA')\n",
        "\n",
        "flamingo_df.show(5)\n"
      ]
    },
    {
      "cell_type": "markdown",
      "source": [
        "#Total number of records"
      ],
      "metadata": {
        "id": "AgbyF6LQ-wC4"
      }
    },
    {
      "cell_type": "code",
      "source": [
        "flamingo_df.count()\n",
        "flamingo_df.printSchema()"
      ],
      "metadata": {
        "colab": {
          "base_uri": "https://localhost:8080/"
        },
        "id": "MqQaNfM--yk-",
        "outputId": "dfb6da2d-f74f-45d1-fdef-6e5123a644ba"
      },
      "execution_count": null,
      "outputs": [
        {
          "output_type": "stream",
          "name": "stdout",
          "text": [
            "root\n",
            " |-- userId: integer (nullable = true)\n",
            " |-- userSessionId: integer (nullable = true)\n",
            " |-- teamLevel: integer (nullable = true)\n",
            " |-- platformType: string (nullable = true)\n",
            " |-- count_gameclicks: integer (nullable = true)\n",
            " |-- count_hits: integer (nullable = true)\n",
            " |-- count_buyId: string (nullable = true)\n",
            " |-- avg_price: string (nullable = true)\n",
            "\n"
          ]
        }
      ]
    },
    {
      "cell_type": "markdown",
      "source": [
        "#Data dictionary:"
      ],
      "metadata": {
        "id": "bSIO0hCp9_oj"
      }
    },
    {
      "cell_type": "code",
      "execution_count": null,
      "metadata": {
        "id": "rNXqyikC59TR",
        "outputId": "43c00a91-f554-47d8-bc8e-9045764f6921",
        "colab": {
          "base_uri": "https://localhost:8080/"
        }
      },
      "outputs": [
        {
          "output_type": "stream",
          "name": "stdout",
          "text": [
            "+------+---------+------------+----------------+----------+-----------+---------+\n",
            "|userId|teamLevel|platformType|count_gameclicks|count_hits|count_buyId|avg_price|\n",
            "+------+---------+------------+----------------+----------+-----------+---------+\n",
            "|   937|        1|     android|              39|         0|          1|     1.00|\n",
            "|  1623|        1|      iphone|             129|         9|          1|    10.00|\n",
            "|    83|        1|     android|             102|        14|          1|     5.00|\n",
            "|   121|        1|     android|              39|         4|          1|     3.00|\n",
            "|   462|        1|     android|              90|        10|          1|     3.00|\n",
            "+------+---------+------------+----------------+----------+-----------+---------+\n",
            "only showing top 5 rows\n",
            "\n",
            "1411\n"
          ]
        }
      ],
      "source": [
        "# Remove the 'flight' column\n",
        "flamingo_drop_column = flamingo_df.drop('userSessionId')\n",
        "\n",
        "# Number of records with missing 'delay' values\n",
        "flamingo_drop_column.filter('count_buyId IS NULL').count()\n",
        "\n",
        "# Remove records with missing 'delay' values\n",
        "flamingo_valid_buys = flamingo_drop_column.filter(flamingo_drop_column.count_buyId != \"NULL\")\n",
        "\n",
        "# Remove records with missing values in any column and get the number of remaining rows\n",
        "flamingo_none_missing = flamingo_valid_buys.dropna()\n",
        "flamingo_none_missing.show(5)\n",
        "print(flamingo_none_missing.count())"
      ]
    },
    {
      "cell_type": "markdown",
      "metadata": {
        "id": "rQQkuDQp59TS"
      },
      "source": [
        "### Column manipulation"
      ]
    },
    {
      "cell_type": "code",
      "source": [
        "from pyspark.sql.functions import round\n",
        "from pyspark.sql.types import IntegerType\n",
        "\n",
        "# Create 'label' column indicating whether flight delayed (1) or not(0)\n",
        "flamingo_none_missing = flamingo_none_missing.withColumn('label', (flamingo_none_missing.avg_price > 10).cast('integer'))\n",
        "\n",
        "flamingo_none_missing = flamingo_none_missing.withColumn(\"count_buyId\", flamingo_none_missing[\"count_buyId\"].cast(IntegerType()))\n",
        "flamingo_none_missing = flamingo_none_missing.withColumn(\"avg_price\", flamingo_none_missing[\"avg_price\"].cast(IntegerType()))\n",
        "\n",
        "# Check first five records\n",
        "flamingo_none_missing.show(5)"
      ],
      "metadata": {
        "colab": {
          "base_uri": "https://localhost:8080/"
        },
        "id": "95nlYoHiG1ld",
        "outputId": "096ad2d9-e9d6-4b66-a494-b6ba1168750e"
      },
      "execution_count": null,
      "outputs": [
        {
          "output_type": "stream",
          "name": "stdout",
          "text": [
            "+------+---------+------------+----------------+----------+-----------+---------+-----+\n",
            "|userId|teamLevel|platformType|count_gameclicks|count_hits|count_buyId|avg_price|label|\n",
            "+------+---------+------------+----------------+----------+-----------+---------+-----+\n",
            "|   937|        1|     android|              39|         0|          1|        1|    0|\n",
            "|  1623|        1|      iphone|             129|         9|          1|       10|    0|\n",
            "|    83|        1|     android|             102|        14|          1|        5|    0|\n",
            "|   121|        1|     android|              39|         4|          1|        3|    0|\n",
            "|   462|        1|     android|              90|        10|          1|        3|    0|\n",
            "+------+---------+------------+----------------+----------+-----------+---------+-----+\n",
            "only showing top 5 rows\n",
            "\n"
          ]
        }
      ]
    },
    {
      "cell_type": "markdown",
      "metadata": {
        "id": "DsU932I859TU"
      },
      "source": [
        "### Categorical columns\n"
      ]
    },
    {
      "cell_type": "code",
      "execution_count": null,
      "metadata": {
        "id": "dcKlOYT959TV",
        "colab": {
          "base_uri": "https://localhost:8080/"
        },
        "outputId": "47b31458-e189-4b65-b214-49b2286fe2aa"
      },
      "outputs": [
        {
          "output_type": "stream",
          "name": "stdout",
          "text": [
            "+------+---------+------------+----------------+----------+-----------+---------+-----+----------------+\n",
            "|userId|teamLevel|platformType|count_gameclicks|count_hits|count_buyId|avg_price|label|platformType_idx|\n",
            "+------+---------+------------+----------------+----------+-----------+---------+-----+----------------+\n",
            "|   937|        1|     android|              39|         0|          1|        1|    0|             1.0|\n",
            "|  1623|        1|      iphone|             129|         9|          1|       10|    0|             0.0|\n",
            "+------+---------+------------+----------------+----------+-----------+---------+-----+----------------+\n",
            "only showing top 2 rows\n",
            "\n"
          ]
        }
      ],
      "source": [
        "from pyspark.ml.feature import StringIndexer\n",
        "\n",
        "# Create an indexer\n",
        "indexer = StringIndexer(inputCol='platformType', outputCol='platformType_idx')\n",
        "\n",
        "# Indexer identifies categories in the data\n",
        "indexer_model = indexer.fit(flamingo_none_missing)\n",
        "\n",
        "# Indexer creates a new column with numeric index values\n",
        "flamingo_indexed = indexer_model.transform(flamingo_none_missing)\n",
        "flamingo_indexed.show(2)"
      ]
    },
    {
      "cell_type": "code",
      "execution_count": null,
      "metadata": {
        "id": "g0AyGMFP59TW",
        "outputId": "89d5f6ad-d852-483c-8ff5-51b11f7c9fb0",
        "colab": {
          "base_uri": "https://localhost:8080/"
        }
      },
      "outputs": [
        {
          "output_type": "stream",
          "name": "stdout",
          "text": [
            "+------------------------------+---------+\n",
            "|features                      |avg_price|\n",
            "+------------------------------+---------+\n",
            "|[937.0,1.0,1.0,0.0,1.0,39.0]  |1        |\n",
            "|[1623.0,1.0,0.0,9.0,1.0,129.0]|10       |\n",
            "|[83.0,1.0,1.0,14.0,1.0,102.0] |5        |\n",
            "|[121.0,1.0,1.0,4.0,1.0,39.0]  |3        |\n",
            "|[462.0,1.0,1.0,10.0,1.0,90.0] |3        |\n",
            "+------------------------------+---------+\n",
            "only showing top 5 rows\n",
            "\n"
          ]
        }
      ],
      "source": [
        "from pyspark.ml.feature import VectorAssembler\n",
        "\n",
        "coef_var = [\n",
        "    'userId',\n",
        "    'teamLevel',\n",
        "    'platformType_idx',\n",
        "    'count_hits',\n",
        "    'count_buyId', \n",
        "    'count_gameclicks',\n",
        "]\n",
        "# Create an assembler object\n",
        "assembler = VectorAssembler(inputCols=coef_var, outputCol='features')\n",
        "\n",
        "# Consolidate predictor columns\n",
        "flamingo_assembled = assembler.transform(flamingo_indexed)\n",
        "\n",
        "# Check the resulting column\n",
        "flamingo_assembled.select('features', 'avg_price').show(5, truncate=False)"
      ]
    },
    {
      "cell_type": "markdown",
      "metadata": {
        "id": "MX9boxPM59TX"
      },
      "source": [
        "## Decision Tree\n"
      ]
    },
    {
      "cell_type": "markdown",
      "metadata": {
        "id": "uUhBIZUo59TX"
      },
      "source": [
        "### Train/test split\n",
        "To objectively assess a Machine Learning model you need to be able to test it on an independent set of data. You can't use the same data that you used to train the model: of course the model will perform (relatively) well on those data!\n",
        "\n",
        "You will split the data into two components:\n",
        "\n",
        "- training data (used to train the model) and\n",
        "- testing data (used to test the model)."
      ]
    },
    {
      "cell_type": "code",
      "execution_count": null,
      "metadata": {
        "id": "36a8TMVZ59TX",
        "outputId": "23aa8af2-1632-4b6e-cc05-4b8e55ea80db",
        "colab": {
          "base_uri": "https://localhost:8080/"
        }
      },
      "outputs": [
        {
          "output_type": "stream",
          "name": "stdout",
          "text": [
            "+-------+------------------+-----------------+------------+------------------+------------------+------------------+---------------+-------------------+------------------+\n",
            "|summary|            userId|        teamLevel|platformType|  count_gameclicks|        count_hits|       count_buyId|      avg_price|              label|  platformType_idx|\n",
            "+-------+------------------+-----------------+------------+------------------+------------------+------------------+---------------+-------------------+------------------+\n",
            "|  count|              1125|             1125|        1125|              1125|              1125|              1125|           1125|               1125|              1125|\n",
            "|   mean|1203.6542222222222|            4.848|        null|142.60622222222221| 16.52177777777778| 1.696888888888889|          7.104|0.26222222222222225|0.9644444444444444|\n",
            "| stddev| 692.1448203919557|1.791391037862423|        null|116.22403875897975|13.129817077203429|0.9065004034282496|6.4571425872021| 0.4400384612400401|1.0317804886072521|\n",
            "|    min|                 1|                1|     android|                10|                 0|                 1|              1|                  0|               0.0|\n",
            "|    max|              2387|                7|     windows|               965|                99|                 6|             20|                  1|               4.0|\n",
            "+-------+------------------+-----------------+------------+------------------+------------------+------------------+---------------+-------------------+------------------+\n",
            "\n",
            "0.7973068745570517\n"
          ]
        }
      ],
      "source": [
        "# Split into training and test sets in a 80:20 ratio\n",
        "flamingo_train, flamingo_test = flamingo_assembled.randomSplit([0.8, 0.2], seed=123)\n",
        "\n",
        "flamingo_train.describe().show()\n",
        "\n",
        "# Check that training set has around 80% of records\n",
        "training_ratio = flamingo_train.count() / flamingo_assembled.count()\n",
        "print(training_ratio)"
      ]
    },
    {
      "cell_type": "code",
      "source": [
        "flamingo_test.describe().show()"
      ],
      "metadata": {
        "colab": {
          "base_uri": "https://localhost:8080/"
        },
        "id": "M6Ei0_QVLpuc",
        "outputId": "5e246cd9-ded4-4616-a37c-9c30f55dd974"
      },
      "execution_count": null,
      "outputs": [
        {
          "output_type": "stream",
          "name": "stdout",
          "text": [
            "+-------+-----------------+------------------+------------+------------------+------------------+------------------+------------------+-------------------+------------------+\n",
            "|summary|           userId|         teamLevel|platformType|  count_gameclicks|        count_hits|       count_buyId|         avg_price|              label|  platformType_idx|\n",
            "+-------+-----------------+------------------+------------+------------------+------------------+------------------+------------------+-------------------+------------------+\n",
            "|  count|              286|               286|         286|               286|               286|               286|               286|                286|               286|\n",
            "|   mean| 1190.93006993007|  4.77972027972028|        null| 155.5734265734266| 17.68881118881119|1.6293706293706294|7.1573426573426575|0.25874125874125875|1.0419580419580419|\n",
            "| stddev|692.5280324971557|1.7938710251340138|        null|132.48613244930695|15.149466344118979|0.8760222834490293| 6.837953828659256| 0.4387108181260932| 1.091428331014967|\n",
            "|    min|                1|                 1|     android|                 6|                 1|                 1|                 1|                  0|               0.0|\n",
            "|    max|             2379|                 7|     windows|               982|               100|                 5|                20|                  1|               4.0|\n",
            "+-------+-----------------+------------------+------------+------------------+------------------+------------------+------------------+-------------------+------------------+\n",
            "\n"
          ]
        }
      ]
    },
    {
      "cell_type": "markdown",
      "metadata": {
        "id": "V5vo8kFk59TX"
      },
      "source": [
        "### Build a Decision Tree\n",
        "Now that you've split the flights data into training and testing sets, you can use the training set to fit a Decision Tree model."
      ]
    },
    {
      "cell_type": "code",
      "execution_count": null,
      "metadata": {
        "id": "Zj4G37ds59TY",
        "outputId": "c4f7e79c-c83a-4825-cc00-cfd50c6f2223",
        "colab": {
          "base_uri": "https://localhost:8080/"
        }
      },
      "outputs": [
        {
          "output_type": "stream",
          "name": "stdout",
          "text": [
            "+-----+----------+-----------------------------------------+\n",
            "|label|prediction|probability                              |\n",
            "+-----+----------+-----------------------------------------+\n",
            "|0    |0.0       |[0.92152466367713,0.07847533632286996]   |\n",
            "|0    |0.0       |[0.5443037974683544,0.45569620253164556] |\n",
            "|0    |0.0       |[0.9952380952380953,0.004761904761904762]|\n",
            "|1    |0.0       |[0.5443037974683544,0.45569620253164556] |\n",
            "|1    |1.0       |[0.3695652173913043,0.6304347826086957]  |\n",
            "+-----+----------+-----------------------------------------+\n",
            "only showing top 5 rows\n",
            "\n"
          ]
        }
      ],
      "source": [
        "from pyspark.ml.classification import DecisionTreeClassifier\n",
        "\n",
        "# Create a classifier object and fit to the training data\n",
        "tree = DecisionTreeClassifier()\n",
        "tree_model = tree.fit(flamingo_train.select('features','avg_price',\"label\"))\n",
        "\n",
        "# Create predictions for the testing data and take a look at the predictions\n",
        "prediction = tree_model.transform(flamingo_test)\n",
        "prediction.select('label', 'prediction', 'probability').show(5, False)"
      ]
    },
    {
      "cell_type": "markdown",
      "metadata": {
        "id": "DAgFCt6859TY"
      },
      "source": [
        "### Evaluate the Decision Tree\n",
        "You can assess the quality of your model by evaluating how well it performs on the testing data. Because the model was not trained on these data, this represents an objective assessment of the model.\n",
        "\n",
        "A confusion matrix gives a useful breakdown of predictions versus known values. It has four cells which represent the counts of:\n",
        "\n",
        "- True Negatives (TN) — model predicts negative outcome & known outcome is negative\n",
        "- True Positives (TP) — model predicts positive outcome & known outcome is positive\n",
        "- False Negatives (FN) — model predicts negative outcome but known outcome is positive\n",
        "- False Positives (FP) — model predicts positive outcome but known outcome is negative."
      ]
    },
    {
      "cell_type": "code",
      "execution_count": null,
      "metadata": {
        "id": "TysO-BA159TZ",
        "outputId": "8f7788ed-130a-48c0-b5b9-3b0bb766193c",
        "colab": {
          "base_uri": "https://localhost:8080/"
        }
      },
      "outputs": [
        {
          "output_type": "stream",
          "name": "stdout",
          "text": [
            "+-----+----------+-----+\n",
            "|label|prediction|count|\n",
            "+-----+----------+-----+\n",
            "|    1|       0.0|   24|\n",
            "|    0|       0.0|  185|\n",
            "|    1|       1.0|   50|\n",
            "|    0|       1.0|   27|\n",
            "+-----+----------+-----+\n",
            "\n",
            "185\n",
            "50\n",
            "24\n",
            "27\n",
            "0.8216783216783217\n"
          ]
        }
      ],
      "source": [
        "# Create a confusion matrix\n",
        "prediction.groupBy('label', 'prediction').count().show()\n",
        "\n",
        "# Calculate the elements of the confusion matrix\n",
        "TN = prediction.filter('prediction = 0 AND label = prediction').count()\n",
        "TP = prediction.filter('prediction = 1 AND label = prediction').count()\n",
        "FN = prediction.filter('prediction = 0 AND label = 1').count()\n",
        "FP = prediction.filter('prediction = 1 AND label = 0').count()\n",
        "\n",
        "print(TN)\n",
        "print(TP)\n",
        "print(FN)\n",
        "print(FP)\n",
        "\n",
        "# Accuracy measures the proportion of correct predictions\n",
        "accuracy = (TN + TP) / (TN + TP + FN + FP)\n",
        "print(accuracy)"
      ]
    }
  ],
  "metadata": {
    "kernelspec": {
      "display_name": "Python 3",
      "language": "python",
      "name": "python3"
    },
    "language_info": {
      "codemirror_mode": {
        "name": "ipython",
        "version": 3
      },
      "file_extension": ".py",
      "mimetype": "text/x-python",
      "name": "python",
      "nbconvert_exporter": "python",
      "pygments_lexer": "ipython3",
      "version": "3.7.6"
    },
    "colab": {
      "name": "Classification-in-PySpark AB.ipynb",
      "provenance": [],
      "collapsed_sections": []
    }
  },
  "nbformat": 4,
  "nbformat_minor": 0
}